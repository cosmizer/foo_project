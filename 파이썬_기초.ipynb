{
  "nbformat": 4,
  "nbformat_minor": 0,
  "metadata": {
    "colab": {
      "name": "파이썬_기초.ipynb",
      "provenance": [],
      "collapsed_sections": [
        "9uAhyj6iqoB5",
        "2KUil-IWraRH",
        "CZQhKRKKsMqM",
        "l7i5G-xgsFTG",
        "juZMSU35sUG8",
        "-JzyhhMKshFu",
        "wOnonH0As2Og",
        "xclG6Z97s71T",
        "1NKK0J9WtN4M",
        "H1IKxy2PvJSF",
        "0zEbnL0suc-j",
        "8NkdoS2yvpdp",
        "0AxT7nEdv-hh",
        "QlxyxAbdv0Gf",
        "_qb5VrYZwE4q",
        "QykPj_DuwQka",
        "bSj7yiOlwlOq",
        "dFR1jvEExIol",
        "46jHgKjXxias",
        "kHwCLj2ix4Yn",
        "ghhvy_DhyV5-",
        "AQECViVNyfTO",
        "S79vr5k9yvC8",
        "fiTscZPqy9Ns",
        "uSLk5KQozZOj",
        "I0oUlqGtzHjm",
        "el9CHKLE0ZPi",
        "ZumE0wCLz2f7",
        "aMKC-Olaz-0M",
        "xYVKc_sC0Od_",
        "Mzjt4F2c0fka",
        "Y7s6JRe50miP",
        "9s9zUfa01pNo",
        "HosGyLy22JXG"
      ],
      "toc_visible": true,
      "include_colab_link": true
    },
    "kernelspec": {
      "name": "python3",
      "display_name": "Python 3"
    }
  },
  "cells": [
    {
      "cell_type": "markdown",
      "metadata": {
        "id": "view-in-github",
        "colab_type": "text"
      },
      "source": [
        "<a href=\"https://colab.research.google.com/github/cosmizer/foo_project/blob/master/%E1%84%91%E1%85%A1%E1%84%8B%E1%85%B5%E1%84%8A%E1%85%A5%E1%86%AB_%E1%84%80%E1%85%B5%E1%84%8E%E1%85%A9.ipynb\" target=\"_parent\"><img src=\"https://colab.research.google.com/assets/colab-badge.svg\" alt=\"Open In Colab\"/></a>"
      ]
    },
    {
      "cell_type": "markdown",
      "metadata": {
        "id": "0bbQFhWvN4FO",
        "colab_type": "text"
      },
      "source": [
        "# 파이썬 개요\n"
      ]
    },
    {
      "cell_type": "markdown",
      "metadata": {
        "id": "7-_b1kXPOMa_",
        "colab_type": "text"
      },
      "source": [
        "## What is Python ?\n",
        "\n",
        "파이썬 언어(이하 파이썬)는 1991년 귀도 반 로섬(Guido van Rossum)이 개발한 범용 프로그래밍 언어이다. \n",
        "\n",
        "> 귀도 반 로섬에서 van은 네덜란드 사람들의 이름의 형식에서 from 이라는 의미. 로섬에서 온 귀도 \n",
        "> Python이라는 이름은 Monty Python's Flying Circus 에서 유래\n",
        "> 크리스마스에 할 일이 없어서 개발했다고 함..\n",
        "\n",
        "**스크립트 기반의 언어**이고 **플랫폼 독립적**이므로 **어떤 운영체제에서도 사용가능**하며 **객체 지향(OOP) 및 동적 타입(dynamic type)** 특성을 가진다.\n",
        "\n",
        "파이썬이 데이터 분석 언어로써 널리 사용되는 이유 중의 하나는 NumPy, SciPy, Pandas, Scikit-learn, Statsmodels 등 \n",
        "다양한 수치 해석 및 데이터 분석 라이브러리를 가지기 있기 때문이다. \n",
        "\n",
        "또한 범용 언어로서 독립 실행 애플리케이션, 웹 서버 등의 개발이 용이하고 다른 프로그래밍 언어와 연동이 쉽다는 것도 파이썬의 인기 요소이다.\n",
        "\n",
        "다만 **R과 마찬가지로 스크립트 언어이기 때문에 실행 속도가 C/C++ 등의 컴파일 언어에 비해 일반적으로 느리다**. \n",
        "\n",
        "그러나 핵심 코드만 C언어등을 사용하여 개발이 가능하고 다양한 Cython, Numba 등 다양한 최적화 옵션이 존재하며   \n",
        "최근에는 Pyston, PyPy 등 JIT가 가능한 파이썬 구현도 개발되어 속도에 대한 부담이 점차 줄어들고 있다.\n",
        "\n",
        "정확히 말하면 **파이썬이란 파이썬 스크립트 언어를 해석하여 실행할 수 있는 인터프리터 엔진**을 말한다.   \n",
        "그러나 실제로는 구체적인 기능을 수행하는 패키지(라이브러리)가 함께 설치되어야 한다.  \n",
        "따라서 리눅스와 마찬가지로 패키지와 패키지 관리 유틸리티를 포함한 다양한 배포판이 존재한다.  \n",
        "현재 가장 널리 쓰이는 파이썬 배포판은 Continuum Anaytics 사가 개발한 **아나콘다(Anaconda)** 배포판이다.  \n",
        "```\n",
        "1-1. 플랫폼 독립적 : OS에 상관없이 어떤 운영체제에서도 사용 가능\n",
        "1-2. 인터프리터 언어 \n",
        "   ㅇ 인터프리터 : 소스코드를 바로 실행할 수 있게 지원하는 프로그램 실행 방법\n",
        "   ㅇ 컴파일러 vs 인터프리터\n",
        "        1) 컴파일러 # 번역의 개념 \n",
        "             - 소스코드를 기계어로 먼저 번역\n",
        "             - 실행 속도가 빠르고, 한번의 많은 기억장소 필요\n",
        "             - C, 자바, C++, C# 등\n",
        "        2) 인터프리터 # 통역의 개념  \n",
        "             - 별도의 번역과정 없이 소스코드를 실행시점에 해석하여 컴퓨터가 처리할 수 있도록 함\n",
        "             - 간단히 작성, 메모리가 적게 필요하지만 실행 속도가 느림\n",
        "             - 파이썬, 스칼라\n",
        "1-2. 객체 지향적 : 실행순서가 아닌 단위모듈(객체) 중심으로 프로그램을 작성\n",
        "1-3. 동적 타입 언어 : 프로그램이 실행하는 시점에 프로그램이 사용해야할 데이터에 대한 타입을 결정함\n",
        "```\n",
        "\n"
      ]
    },
    {
      "cell_type": "markdown",
      "metadata": {
        "id": "6hJToUnMOewI",
        "colab_type": "text"
      },
      "source": [
        "## Why Python ?\n",
        "\n",
        "    ㅇ 쉽게 간단하며, 다양한 기능을 제공\n",
        "        - 인간지향적인 간단한 언어\n",
        "        - 다양한 라이브러리와 넓은 활용 범위\n",
        "    ㅇ 가장 대중화된 언어\n"
      ]
    },
    {
      "cell_type": "markdown",
      "metadata": {
        "id": "i1Z-DEHIPRMO",
        "colab_type": "text"
      },
      "source": [
        "## Python vs R\n",
        "\n",
        "\n",
        "|비교  |R  |Python  |\n",
        "|--|--|--|\n",
        "|특징 | S/S+ 언어와 호환되는 통계 계산용 언어 |   범용 프로그래밍 언어\n",
        "|  |  무료 오픈소스                    |   객체 지향, 동적 타입\n",
        "|장점 |통계 계산에 최적화된 각종 자료형      |   다양한 수치해석 및 데이터 분석 패키지들\n",
        "|   | 다양한 통계 패키지들               |   (NumPy, SciPy, Pandas, Scikit-learn, Statsmodels 등)\n",
        "|   |                                |   독립 실행 애플리케이션, 웹 서버 개발 가능  \n",
        "|    |                                |   다른 프로그래밍 언어와 연동 용이\n",
        "| 단점 | 느린 속도, 범용 언어가 아님          |   느린 속도\n"
      ]
    },
    {
      "cell_type": "markdown",
      "metadata": {
        "id": "Ii66dsa6Qpsk",
        "colab_type": "text"
      },
      "source": [
        "## Anaconda\n",
        "\n",
        "\n",
        "### 아나콘다(Anaconda)\n",
        "\n",
        "ㅇ 가장 후발 주자 (2012년 설립)  \n",
        "ㅇ 2017년 현재 사실상의 표준(de facto standard)  \n",
        "ㅇ 모든 플랫폼(윈도우즈/리눅스/맥 32비트/64비트)에 대해 완벽한 패키지 제공\n",
        "\n",
        "### 패키지 종류\n",
        "\n",
        "```\n",
        "ActiveState\n",
        "pythonxy\n",
        "winpython\n",
        "Conceptive\n",
        "Enthought Canopy\n",
        "PyIMSL Studio\n",
        "eGenix PyRun\n",
        "Anaconda\n",
        "```\n",
        "\n",
        "### 아나콘다 배포판 설치 : https://www.continuum.io/downloads 에서 다운로드  \n",
        "\n",
        "### 아나콘다 구성\n",
        "\n",
        "```\n",
        "Anaconda Prompt\n",
        "IPython\n",
        "Jupyter Notebook\n",
        "Jupyter QTConsole\n",
        "Spyder \n",
        " - Scientific Python Development Environment. \n",
        " - Powerful Python IDE with advanced editing, interacive testing, debugging and introspection features.\n",
        "```\n",
        "\n",
        "> IDE : Integrated Development Environment\n",
        "> 효율적으로 소프트웨어를 개발하기 위한 통합개발환경 소프트웨어 어플리케이션 인터페이스이다. \n",
        "> 코드 편집기, 디버거, 컴파일러, 인터프리터 등을 포함하고 개발자에게 제공한다\n",
        "> Spyder는 matlab에 가깝고, PyCharm은 Visual Studio에 가깝다.\n",
        "\n",
        "### 아나콘다를 활용한 패키지 설치 : Environments -> Search Packages\n"
      ]
    },
    {
      "cell_type": "markdown",
      "metadata": {
        "id": "MAqp7PDJRGO4",
        "colab_type": "text"
      },
      "source": [
        "##  데이터 분석용 파이썬 패키지\n",
        "\n",
        "여러 분야 사용할 수 있는 다양한 패키지를 가지고 있다는 점은 파이썬의 큰 장점이다.  \n",
        "2017년 3월 PyPI 서버(https://pypi.python.org/pypi)를 통해 공식적으로 제공되는 파이썬 라이브러리의 숫자는 약 98,000개이다.\n",
        "\n",
        "\n",
        "```\n",
        "ㅇ NumPy\n",
        "    - 수치해석 라이브러리\n",
        "    - http://www.numpy.org/\n",
        "    - 2006, Travis Oliphant\n",
        "ㅇ SciPy\n",
        "    - 과학기술 함수 라이브러리\n",
        "    - http://www.scipy.org/\n",
        "    - 2001, Travis Oliphant, Pearu Peterson\n",
        "ㅇ SymPy\n",
        "    - 심볼릭 연산 라이브러리\n",
        "    - http://www.sympy.org/\n",
        "    - 2006, Ondřej Čertík\n",
        "ㅇ Matplotlib\n",
        "    - 시각화 라이브러리, matlab 플롯 기능 구현\n",
        "    - http://matplotlib.org/\n",
        "    - 2002, John D. Hunter\n",
        "ㅇ seaborn\n",
        "    - 시각화 라이브러리. 통계용 차트 및 컬러맵 추가\n",
        "    - https://stanford.edu/~mwaskom/software/seaborn/\n",
        "    - 2012, Michael Waskom\n",
        "ㅇ bokeh\n",
        "    - 시각화 라이브러리. 웹상에서 인터액티브 플롯 구현\n",
        "    - http://bokeh.pydata.org\n",
        "    - 2012, Peter Wang\n",
        "ㅇ pandas\n",
        "    - 데이터 분석 라이브러리. R의 data.frame 자료구조 구현\n",
        "    - http://pandas.pydata.org/\n",
        "    - 2008, Wes McKinney (AQR Capital Management)\n",
        "ㅇ statsmodels\n",
        "    - 다변량 회귀 분석 및 시계열 분석 라이브러리\n",
        "    - http://statsmodels.sourceforge.net/stable/\n",
        "    - 2009, Skipper Seabold\n",
        "ㅇ scikit-learn\n",
        "    - 머신러닝 라이브러리\n",
        "    - http://scikit-learn.org\n",
        "    - 2007, David Cournapeau\n",
        "ㅇ TensorFlow\n",
        "    - 딥러닝 라이브러리\n",
        "    - https://www.tensorflow.org/\n",
        "    - 2015, google\n",
        "ㅇ Keras\n",
        "    - 고수준 딥러닝 라이브러리\n",
        "    - https://keras.io/\n",
        "    - 2015, François Chollet\n",
        "```"
      ]
    },
    {
      "cell_type": "markdown",
      "metadata": {
        "id": "9uAhyj6iqoB5",
        "colab_type": "text"
      },
      "source": [
        "# 파이썬 조건문\n",
        "## if ~ else 명령\n",
        "주의할 점 : 참 또는 거짓일 때 실행되는 명령들은 빈칸을 4칸 띄우고 써야 합니다.\n"
      ]
    },
    {
      "cell_type": "code",
      "metadata": {
        "id": "rKuSuA5Lqe9x",
        "colab_type": "code",
        "cellView": "both",
        "colab": {}
      },
      "source": [
        "a = 10 #@param {type:\"raw\"}\n",
        "\n",
        "if a % 2 == 0:\n",
        "    print(\"짝수\")\n",
        "else:\n",
        "    print(\"홀수\")"
      ],
      "execution_count": 0,
      "outputs": []
    },
    {
      "cell_type": "code",
      "metadata": {
        "id": "-zDmMXF4qu3O",
        "colab_type": "code",
        "cellView": "both",
        "colab": {}
      },
      "source": [
        "b = 55 #@param {type:\"raw\"}\n",
        "\n",
        "if (b >= 10) & (b < 100) & (b % 2 == 0):\n",
        "    print(\"2자리수의 짝수이다.\")\n",
        "else:\n",
        "    print(\"2자리수의 짝수가 아니다.\")"
      ],
      "execution_count": 0,
      "outputs": []
    },
    {
      "cell_type": "code",
      "metadata": {
        "id": "4r6hFWH2q1iS",
        "colab_type": "code",
        "cellView": "both",
        "colab": {}
      },
      "source": [
        "c = 6  #@param {type:\"raw\"}\n",
        "\n",
        "if c >= 8:\n",
        "    print(\"A\")\n",
        "elif c >= 5:\n",
        "    print(\"B\")\n",
        "else:\n",
        "    print(\"C\")"
      ],
      "execution_count": 0,
      "outputs": []
    },
    {
      "cell_type": "code",
      "metadata": {
        "id": "JzOgdfjAq4Fx",
        "colab_type": "code",
        "cellView": "both",
        "colab": {}
      },
      "source": [
        "sex_cd = 'M'  #@param {type:\"raw\"}\n",
        "pushup = 8  #@param {type:\"raw\"}\n",
        "\n",
        "if sex_cd == \"M\":\n",
        "    if pushup >= 10:\n",
        "      grade = \"Pass\"\n",
        "    else:\n",
        "      grade = \"Fail\"\n",
        "else:\n",
        "    if pushup >= 5:\n",
        "      grade = \"Pass\"\n",
        "    else:\n",
        "      grade = \"Fail\"\n",
        "\n",
        "print(grade)"
      ],
      "execution_count": 0,
      "outputs": []
    },
    {
      "cell_type": "markdown",
      "metadata": {
        "id": "2KUil-IWraRH",
        "colab_type": "text"
      },
      "source": [
        "# 파이썬 함수\n",
        "함수(function)는 입력(input)을 받으면 그 입력에 해당하는 출력(output)을 내놓은 기계와 같다."
      ]
    },
    {
      "cell_type": "markdown",
      "metadata": {
        "id": "CZQhKRKKsMqM",
        "colab_type": "text"
      },
      "source": [
        "## 함수 기본\n",
        "\n",
        "예를 들어 500원을 넣으면 생수가 나오고 1000원을 넣으면 콜라가 나오는 자판기는 다음과 같은 함수이다.\n",
        "```\n",
        "f(500) = \"생수\"\n",
        "f(1000) = \"콜라\"\n",
        "```\n",
        "파이썬에는 def 키워드를 사용하여 다음과 같이 함수를 만들 수 있다."
      ]
    },
    {
      "cell_type": "code",
      "metadata": {
        "id": "5bz2p7-qq-Cf",
        "colab_type": "code",
        "cellView": "both",
        "colab": {}
      },
      "source": [
        "def twotimes(x):\n",
        "    y = 2 * x\n",
        "    return y"
      ],
      "execution_count": 0,
      "outputs": []
    },
    {
      "cell_type": "markdown",
      "metadata": {
        "id": "qB7ML2tNsBIH",
        "colab_type": "text"
      },
      "source": [
        "이렇게 만들어진 함수를 사용하려면 함수 이름과 그 뒤에 괄호로 싸인 입력값을 넣으면 된다."
      ]
    },
    {
      "cell_type": "code",
      "metadata": {
        "id": "VjamQgrBsATo",
        "colab_type": "code",
        "colab": {}
      },
      "source": [
        "twotimes(400)"
      ],
      "execution_count": 0,
      "outputs": []
    },
    {
      "cell_type": "markdown",
      "metadata": {
        "id": "l7i5G-xgsFTG",
        "colab_type": "text"
      },
      "source": [
        "## 다변 함수"
      ]
    },
    {
      "cell_type": "code",
      "metadata": {
        "id": "ZMWl8207sCuK",
        "colab_type": "code",
        "colab": {}
      },
      "source": [
        "def add(x, y):\n",
        "  return x + y\n",
        "\n",
        "add(1, 2)"
      ],
      "execution_count": 0,
      "outputs": []
    },
    {
      "cell_type": "code",
      "metadata": {
        "id": "OZs3kHVssHef",
        "colab_type": "code",
        "colab": {}
      },
      "source": [
        "def sum(a, b, c):\n",
        "  s = a + b + c\n",
        "  return s\n",
        "\n",
        "sum(1, 2, 3)"
      ],
      "execution_count": 0,
      "outputs": []
    },
    {
      "cell_type": "markdown",
      "metadata": {
        "id": "juZMSU35sUG8",
        "colab_type": "text"
      },
      "source": [
        "## 지역 변수\n",
        "\n",
        "함수에 넣은 입력 변수나 함수 안에서 만들어진 변수는 함수 바깥에서는 사용할 수 없다. \n",
        "혹시 이름이 같은 변수가 있다고 하더라도 별개의 변수가 된다.\n",
        "\n",
        "따라서 함수 안에서 만들어지고 사용되는 함수를 지역 변수, 영어로 local variable 이라고 한다."
      ]
    },
    {
      "cell_type": "code",
      "metadata": {
        "id": "bgFUX8MWsRlk",
        "colab_type": "code",
        "colab": {}
      },
      "source": [
        "def f(x):\n",
        "  y = 10 * x\n",
        "  print(\"y = \", y)\n",
        "  \n",
        "  # return y\n",
        "\n",
        "f(10)"
      ],
      "execution_count": 0,
      "outputs": []
    },
    {
      "cell_type": "code",
      "metadata": {
        "id": "bIOCDvktsb2g",
        "colab_type": "code",
        "colab": {}
      },
      "source": [
        "def f(x):\n",
        "  y = 10 * x\n",
        "  print(\"y = \", y)\n",
        "  \n",
        "  return y\n",
        "\n",
        "f(10)"
      ],
      "execution_count": 0,
      "outputs": []
    },
    {
      "cell_type": "markdown",
      "metadata": {
        "id": "-JzyhhMKshFu",
        "colab_type": "text"
      },
      "source": [
        "## 전역 변수\n",
        "\n",
        "하지만 지역 변수와 반대로 함수 바깥에서 만들어진 변수는 함수 안에서 사용할 수 있다."
      ]
    },
    {
      "cell_type": "code",
      "metadata": {
        "id": "0OaqIcAosdtf",
        "colab_type": "code",
        "colab": {}
      },
      "source": [
        "z = 3\n",
        "\n",
        "def f2(x):\n",
        "  y = z * x\n",
        "  print(\"y =\", y)\n",
        "  print(\"z =\", z)\n",
        "  # return y\n",
        "    \n",
        "f2(10)"
      ],
      "execution_count": 0,
      "outputs": []
    },
    {
      "cell_type": "markdown",
      "metadata": {
        "id": "5gLC2z4Bst0x",
        "colab_type": "text"
      },
      "source": [
        "다만 이 때 바깥의 변수와 같은 이름의 변수를 함수 안에 만들면 안된다.\n",
        "\n",
        "만약 바깥의 변수와 같은 이름의 변수를 함수 안에 다시 만들면 \n",
        "\n",
        "함수 안에서는 그 지역 변수를 사용하다가 함수 바깥으로 나오면 지역 변수는 사라지고 원래의 변수값으로 되돌아 온다.\n",
        "\n",
        "따라서, 함수 안에서는 함수 바깥에 있는 변수의 값을 바꿀 수 없다."
      ]
    },
    {
      "cell_type": "code",
      "metadata": {
        "id": "uPpI0XX0sjfQ",
        "colab_type": "code",
        "colab": {}
      },
      "source": [
        "z = 3\n",
        "\n",
        "def f3(x):\n",
        "    z = 99\n",
        "    y = z * x\n",
        "    print(\"y =\", y)\n",
        "    print(\"z =\", z)\n",
        "    return y\n",
        "    \n",
        "f3(10)"
      ],
      "execution_count": 0,
      "outputs": []
    },
    {
      "cell_type": "markdown",
      "metadata": {
        "id": "wOnonH0As2Og",
        "colab_type": "text"
      },
      "source": [
        "## Global\n",
        "\n",
        "만약 함수안에서 함수 바깥에 있는 변수의 값을 꼭 바꿔야만 한다면 \n",
        "\n",
        "다음과 같이 함수 이름 앞에 global 키워드를 선언해 주면 된다."
      ]
    },
    {
      "cell_type": "code",
      "metadata": {
        "id": "oVfZaLf0szDB",
        "colab_type": "code",
        "colab": {}
      },
      "source": [
        "z = 3\n",
        "\n",
        "def f4(x):\n",
        "    global z\n",
        "    z = 99\n",
        "    y = z * x\n",
        "    print(\"y =\", y)\n",
        "    print(\"z =\", z)\n",
        "    return y\n",
        "\n",
        "f4(10)"
      ],
      "execution_count": 0,
      "outputs": []
    },
    {
      "cell_type": "markdown",
      "metadata": {
        "id": "xclG6Z97s71T",
        "colab_type": "text"
      },
      "source": [
        "## 입력 변수 갯수 가변 처리\n",
        "\n",
        "None 값을 이용해서 입력 변수의 갯수에 따라 결과가 바뀌게 할 수도 있다."
      ]
    },
    {
      "cell_type": "code",
      "metadata": {
        "id": "Tfm_CB_gs4wp",
        "colab_type": "code",
        "colab": {}
      },
      "source": [
        "def add_numbers(x, y, z = None):\n",
        "    if(z == None):\n",
        "        return x + y\n",
        "    else :\n",
        "        return x + y + z\n",
        "    \n",
        "print(add_numbers(1, 2))\n",
        "print(add_numbers(1, 2, 3))"
      ],
      "execution_count": 0,
      "outputs": []
    },
    {
      "cell_type": "markdown",
      "metadata": {
        "id": "1NKK0J9WtN4M",
        "colab_type": "text"
      },
      "source": [
        "## lambda 함수\n",
        "\n",
        "lambda 라는 치트도 존재한다."
      ]
    },
    {
      "cell_type": "code",
      "metadata": {
        "id": "41G0cVIStFPJ",
        "colab_type": "code",
        "colab": {}
      },
      "source": [
        "t = lambda x:x*2+1\n",
        "\n",
        "t(6)"
      ],
      "execution_count": 0,
      "outputs": []
    },
    {
      "cell_type": "code",
      "metadata": {
        "id": "mE2AxnYGtSbY",
        "colab_type": "code",
        "colab": {}
      },
      "source": [
        "t = lambda x: print(\"test: {}\".format(x+3))\n",
        "\n",
        "t(2)"
      ],
      "execution_count": 0,
      "outputs": []
    },
    {
      "cell_type": "markdown",
      "metadata": {
        "id": "H1IKxy2PvJSF",
        "colab_type": "text"
      },
      "source": [
        "# 파이썬 반복문"
      ]
    },
    {
      "cell_type": "markdown",
      "metadata": {
        "id": "0zEbnL0suc-j",
        "colab_type": "text"
      },
      "source": [
        "## for 반복문\n",
        "\n",
        "다음과 같은 문자를 반복적으로 출력해야한다고 가정하자.\n",
        "```\n",
        "=0=\n",
        "=1=\n",
        "=2=\n",
        "=3=\n",
        "=4=\n",
        "=5=\n",
        "=6=\n",
        "=7=\n",
        "=8=\n",
        "=9=\n",
        "```\n",
        "\n",
        "이를 위해서 다음과 같이 print 문을 반복적으로 사용할 수도 있을 것이다.\n",
        "\n",
        "```\n",
        "print(\"=1=\")  \n",
        "print(\"=2=\")  \n",
        "print(\"=3=\")  \n",
        "print(\"=4=\")  \n",
        "print(\"=5=\")  \n",
        "print(\"=6=\")  \n",
        "print(\"=7=\")  \n",
        "print(\"=8=\")  \n",
        "print(\"=9=\")\n",
        "```"
      ]
    },
    {
      "cell_type": "markdown",
      "metadata": {
        "id": "dMIQo6FUuy19",
        "colab_type": "text"
      },
      "source": [
        "for 문을 이용하면 코드가 다음과 같이 가벼워진다."
      ]
    },
    {
      "cell_type": "code",
      "metadata": {
        "id": "lK_t_sTttTry",
        "colab_type": "code",
        "colab": {}
      },
      "source": [
        "for i in range(10):\n",
        "    print(\"=\")"
      ],
      "execution_count": 0,
      "outputs": []
    },
    {
      "cell_type": "code",
      "metadata": {
        "id": "BKwxNA5ru2jY",
        "colab_type": "code",
        "colab": {}
      },
      "source": [
        "for i in range(10):\n",
        "    print(i)"
      ],
      "execution_count": 0,
      "outputs": []
    },
    {
      "cell_type": "code",
      "metadata": {
        "id": "XLAqC3ABu4N0",
        "colab_type": "code",
        "colab": {}
      },
      "source": [
        "for i in range(10):\n",
        "    print(\"=\" + str(i) + \"=\")"
      ],
      "execution_count": 0,
      "outputs": []
    },
    {
      "cell_type": "markdown",
      "metadata": {
        "id": "IgLTny_zu-fT",
        "colab_type": "text"
      },
      "source": [
        "뒤에 배우겠지만, for 문은 list 형 자료 작성 시에도 활용 가능하다."
      ]
    },
    {
      "cell_type": "code",
      "metadata": {
        "id": "SazRe9Seu538",
        "colab_type": "code",
        "colab": {}
      },
      "source": [
        "x = [i ** 2 for i in range(10)]\n",
        "\n",
        "x"
      ],
      "execution_count": 0,
      "outputs": []
    },
    {
      "cell_type": "markdown",
      "metadata": {
        "id": "IbfuAsM_vF7A",
        "colab_type": "text"
      },
      "source": [
        "for 반복문과 문자열 연산을 사용하여 다음과 같이 인쇄한다.\n",
        "\n",
        "\n",
        "```\n",
        " *\n",
        " **\n",
        " ***\n",
        " ****\n",
        " *****\n",
        " ******\n",
        " *******\n",
        " ********\n",
        " *********\n",
        " **********\n",
        "```"
      ]
    },
    {
      "cell_type": "code",
      "metadata": {
        "id": "hwOuQC8iu8cE",
        "colab_type": "code",
        "colab": {}
      },
      "source": [
        "for i in range(10):\n",
        "    print(\"*\" * i)"
      ],
      "execution_count": 0,
      "outputs": []
    },
    {
      "cell_type": "markdown",
      "metadata": {
        "id": "zRScYBxXvU5J",
        "colab_type": "text"
      },
      "source": [
        "for 반복문과 문자열 연산을 사용하여 다음과 같이 인쇄한다.\n",
        " \n",
        "```\n",
        " **********\n",
        " *********\n",
        " ********\n",
        " *******\n",
        " ******\n",
        " *****\n",
        " ****\n",
        " ***\n",
        " **\n",
        " *\n",
        "```"
      ]
    },
    {
      "cell_type": "code",
      "metadata": {
        "id": "wDVG01iDvRSB",
        "colab_type": "code",
        "colab": {}
      },
      "source": [
        "for i in range(10):\n",
        "    print(\"*\" * (10 - i))"
      ],
      "execution_count": 0,
      "outputs": []
    },
    {
      "cell_type": "markdown",
      "metadata": {
        "id": "mmxDUSQKvYcd",
        "colab_type": "text"
      },
      "source": [
        "for 반복문과 문자열 연산, if 조건문을 사용하여 다음과 같이 인쇄한다.\n",
        " \n",
        "```\n",
        " *\n",
        " **\n",
        " ***\n",
        " ****\n",
        " *****\n",
        " ******\n",
        " *******\n",
        " ********\n",
        " *********\n",
        " **********\n",
        " *********\n",
        " ********\n",
        " *******\n",
        " ******\n",
        " *****\n",
        " ****\n",
        " ***\n",
        " **\n",
        " *\n",
        "```"
      ]
    },
    {
      "cell_type": "code",
      "metadata": {
        "id": "tdOhOmJBvX1k",
        "colab_type": "code",
        "colab": {}
      },
      "source": [
        "for i in range(20):\n",
        "    if i <= 10:\n",
        "        print(\"*\" * i)\n",
        "    else :\n",
        "        print(\"*\" * (20 - i))"
      ],
      "execution_count": 0,
      "outputs": []
    },
    {
      "cell_type": "markdown",
      "metadata": {
        "id": "voZ47Jj0vi_g",
        "colab_type": "text"
      },
      "source": [
        "for 반복문과 문자열 연산, if 조건문을 사용하여 다음과 같이 인쇄한다.\n",
        "```\n",
        "      * \n",
        "     ***\n",
        "    *****\n",
        "   *******\n",
        "  *********\n",
        " ***********\n",
        "  *********\n",
        "   *******\n",
        "    *****\n",
        "     ***\n",
        "      *\n",
        "```"
      ]
    },
    {
      "cell_type": "code",
      "metadata": {
        "id": "cLKKyBU3vf46",
        "colab_type": "code",
        "colab": {}
      },
      "source": [
        "for i in range(11):\n",
        "    if i <= 5 :\n",
        "        print(\" \" * (5 - i) + \"*\" * (i * 2 + 1) )\n",
        "    else :\n",
        "        print(\" \" * (i - 5) + \"*\" * ((10 - i) * 2 + 1))"
      ],
      "execution_count": 0,
      "outputs": []
    },
    {
      "cell_type": "markdown",
      "metadata": {
        "id": "8NkdoS2yvpdp",
        "colab_type": "text"
      },
      "source": [
        "## 중첩 for 반복문\n",
        "\n",
        "```\n",
        " 0 1 2 3 \n",
        " 1 2 3 4 \n",
        " 2 3 4 5 \n",
        " 3 4 5 6\n",
        "```"
      ]
    },
    {
      "cell_type": "code",
      "metadata": {
        "id": "YyFQSmiSvnF7",
        "colab_type": "code",
        "colab": {}
      },
      "source": [
        "for i in range(4):\n",
        "    for j in range(4):\n",
        "        print(i + j, end=\" \")"
      ],
      "execution_count": 0,
      "outputs": []
    },
    {
      "cell_type": "code",
      "metadata": {
        "id": "8cv8qsiJvvr2",
        "colab_type": "code",
        "colab": {}
      },
      "source": [
        "for i in range(4):\n",
        "    for j in range(4):\n",
        "        print(i + j, end=\" \")\n",
        "    print()"
      ],
      "execution_count": 0,
      "outputs": []
    },
    {
      "cell_type": "markdown",
      "metadata": {
        "id": "0AxT7nEdv-hh",
        "colab_type": "text"
      },
      "source": [
        "## for 반복문 연습하기"
      ]
    },
    {
      "cell_type": "markdown",
      "metadata": {
        "id": "QlxyxAbdv0Gf",
        "colab_type": "text"
      },
      "source": [
        "### 주사위 경우의 수 구하기\n",
        "\n",
        "1부터 6까지의 눈금이 있는 주사위를 두 번 던져서 나올 경우의 수 구하기"
      ]
    },
    {
      "cell_type": "code",
      "metadata": {
        "id": "AohqjqEcvxIx",
        "colab_type": "code",
        "colab": {}
      },
      "source": [
        "for i in range(6):\n",
        "    n1 = i + 1\n",
        "    for j in range(6):\n",
        "        n2 = j + 1\n",
        "        print(n1, n2)"
      ],
      "execution_count": 0,
      "outputs": []
    },
    {
      "cell_type": "markdown",
      "metadata": {
        "id": "_qb5VrYZwE4q",
        "colab_type": "text"
      },
      "source": [
        "### 주식 가격 경우의 수 구하기\n",
        "\n",
        "어떤 주식의 가격은 매일 한 번 동전을 던져서 앞면이 나오면 전날 가격의 2배가 되고 \n",
        "뒷면이 나오면 전날 가격의 절반이 된다.\n",
        " \n",
        "1일에 주식의 가격이 1024원이었을 경우에 \n",
        "4일의 주식의 가격이 나올 수 있는 경우를 모두 구한다.\n",
        "\n",
        "(힌트: for 반복문이 3개 중첩되어야 한다.)"
      ]
    },
    {
      "cell_type": "code",
      "metadata": {
        "id": "ej4y_aq8v5jA",
        "colab_type": "code",
        "colab": {}
      },
      "source": [
        "c = 1024\n",
        "\n",
        "for i in range(2):\n",
        "    if i == 0:\n",
        "        x2 = \"앞면\"\n",
        "        m2 = 2\n",
        "    else :\n",
        "        x2 = \"뒷면\"\n",
        "        m2 = 0.5\n",
        "    for j in range(2):\n",
        "        if j == 0:\n",
        "            x3 = \"앞면\"\n",
        "            m3 = 2\n",
        "        else:\n",
        "            x3 = \"뒷면\"\n",
        "            m3 = 0.5\n",
        "        for k in range(2):\n",
        "            if k == 0:\n",
        "                x4 = \"앞면\"\n",
        "                m4 = 2\n",
        "            else:\n",
        "                x4 = \"뒷면\"\n",
        "                m4 = 0.5\n",
        "            k = c * m2 * m3 * m4\n",
        "            print(x2, x3, x4, k)"
      ],
      "execution_count": 0,
      "outputs": []
    },
    {
      "cell_type": "markdown",
      "metadata": {
        "id": "QykPj_DuwQka",
        "colab_type": "text"
      },
      "source": [
        "## 카운터 변수가 변하는 경우\n",
        " \n",
        "가장 복잡한 경우는 안쪽의 반복문의 반복 횟수가 바깥쪽 반복문의 카운터 변수에 따라 변하는 경우이다.\n",
        "\n",
        "1부터 1까지의 합, 1부터 2까지의 합, 1부터 3까지의 합,   \n",
        "이런 식으로 1부터 10까지의 합을 각각 다 구해야 한다면 다음과 같이 반복문을 중첩해야 한다."
      ]
    },
    {
      "cell_type": "code",
      "metadata": {
        "id": "2r8fLq6_wMUD",
        "colab_type": "code",
        "colab": {}
      },
      "source": [
        "for j in range(10):\n",
        "    sum = 0\n",
        "    for i in range(j + 1):\n",
        "        sum = sum + (i + 1)\n",
        "    print(sum)"
      ],
      "execution_count": 0,
      "outputs": []
    },
    {
      "cell_type": "markdown",
      "metadata": {
        "id": "F2-7Iv2PwVom",
        "colab_type": "text"
      },
      "source": [
        "다음과 같은 수열이 있을 경우에 n번째 수열의 값을 구한다.\n",
        "```\n",
        "1\n",
        "1+(1+2)\n",
        "1+(1+2)+(1+2+3)\n",
        "1+(1+2)+(1+2+3)+(1+2+3+4)\n",
        "⋮\n",
        "1+(1+2)+(1+2+3)+(1+2+3+4)+⋯+(1+⋯+n)\n",
        "```"
      ]
    },
    {
      "cell_type": "code",
      "metadata": {
        "id": "c_v6-Qc6wTlj",
        "colab_type": "code",
        "cellView": "both",
        "colab": {}
      },
      "source": [
        "n = 10 #@param {type:\"raw\"}\n",
        "sum = 0 #@param {type:\"raw\"}\n",
        "\n",
        "for i in range(n):\n",
        "    for j in range(i+1):\n",
        "        sum = sum + (j+1)\n",
        "    print(\"{}번째 수열의 값은 {} 입니다.\".format(i+1, sum))"
      ],
      "execution_count": 0,
      "outputs": []
    },
    {
      "cell_type": "markdown",
      "metadata": {
        "id": "bSj7yiOlwlOq",
        "colab_type": "text"
      },
      "source": [
        "### 피보나치 수열 구하기"
      ]
    },
    {
      "cell_type": "code",
      "metadata": {
        "id": "e1O4BmXxwZjs",
        "colab_type": "code",
        "colab": {}
      },
      "source": [
        "def fibo(n):\n",
        "  if n in (1,2) :\n",
        "    return 1\n",
        "  else :\n",
        "    return fibo(n-1) + fibo(n-2)\n",
        "\n",
        "fibo(10)"
      ],
      "execution_count": 0,
      "outputs": []
    },
    {
      "cell_type": "markdown",
      "metadata": {
        "id": "dFR1jvEExIol",
        "colab_type": "text"
      },
      "source": [
        "## while 반복문\n",
        " \n",
        "반복해서 문장을 수행해야 할 경우 while문을 사용한다. 그래서 while문을 반복문이라고도 부른다.\n",
        " \n",
        "다음은 while문의 기본 구조이다.\n",
        "\n",
        "```\n",
        "while <조건문>:\n",
        "    <수행할 문장1>\n",
        "    <수행할 문장2>\n",
        "    <수행할 문장3>\n",
        "...\n",
        "```\n",
        "\n",
        "while문은 조건문이 참인 동안에 while문 아래에 속하는 문장들이 반복해서 수행된다."
      ]
    },
    {
      "cell_type": "markdown",
      "metadata": {
        "id": "nfDjsn_qxRQu",
        "colab_type": "text"
      },
      "source": [
        "\"열 번 찍어 안 넘어 가는 나무 없다\" 라는 속담을 파이썬 프로그램으로 만든다면 다음과 같이 될 것이다."
      ]
    },
    {
      "cell_type": "code",
      "metadata": {
        "id": "cq36BMsvwpzA",
        "colab_type": "code",
        "cellView": "both",
        "colab": {}
      },
      "source": [
        "treeHit = 0 #@param {type:\"raw\"}\n",
        "\n",
        "while treeHit < 10:\n",
        "    treeHit = treeHit +1\n",
        "    print(\"나무를 %d번 찍었습니다.\" % treeHit)\n",
        "    if treeHit == 10:\n",
        "        print(\"나무 넘어갑니다.\")"
      ],
      "execution_count": 0,
      "outputs": []
    },
    {
      "cell_type": "markdown",
      "metadata": {
        "id": "KG8T7BjYxafk",
        "colab_type": "text"
      },
      "source": [
        "위의 예에서 while문의 조건문은 treeHit < 10 이다. \n",
        "\n",
        "즉, treeHit가 10보다 작은 동안에 while문 안의 문장들을 계속 수행한다. whlie문 안의 문장을 보면 제일 먼저 treeHit = treeHit + 1로 treeHit 값이 계속 1씩 증가한다. 그리고 나무를 treeHit번만큼 찍었음을 알리는 문장을 출력하고 treeHit가 10이 되면 \"나무 넘어갑니다.\"라는 문장을 출력한다. 그러고 나면 treeHit < 10 이라는 조건문이 거짓이 되므로 while문을 빠져나가게 된다.\n",
        " \n",
        "(※ treeHit = treeHit + 1 은 프로그래밍을 할 때 매우 자주 사용하는 기법이다. treeHit의 값을 1만큼씩 증가시킬 목적으로 사용되며, treeHit +=1 처럼 사용되기도 한다.)\n",
        "\n",
        "다음을 직접 입력해 보자. 여러 가지 선택지 중 하나를 선택해서 입력받는 예제이다. 먼저 다음과 같이 여러 줄짜리 문자열을 만들어 보자.\n",
        "\n"
      ]
    },
    {
      "cell_type": "code",
      "metadata": {
        "id": "T0VoOjKKxWst",
        "colab_type": "code",
        "colab": {}
      },
      "source": [
        "prompt = \"\"\"\n",
        "1. Add\n",
        "2. Del\n",
        "3. List\n",
        "4. Quit\n",
        "Enter number: \n",
        "\"\"\""
      ],
      "execution_count": 0,
      "outputs": []
    },
    {
      "cell_type": "code",
      "metadata": {
        "id": "P71-q4Bkxcnd",
        "colab_type": "code",
        "cellView": "both",
        "colab": {}
      },
      "source": [
        "number = 0 #@param {type:\"raw\"}\n",
        "\n",
        "while number != 4:\n",
        "    print(prompt)\n",
        "    number = int(input())"
      ],
      "execution_count": 0,
      "outputs": []
    },
    {
      "cell_type": "markdown",
      "metadata": {
        "id": "46jHgKjXxias",
        "colab_type": "text"
      },
      "source": [
        "### while문 강제로 빠져나가기\n",
        " \n",
        "while문은 조건문이 참인 동안 계속해서 while문 안의 내용을 반복적으로 수행한다. 하지만 강제로 while문을 빠져나가고 싶을 때가 있다. 예를 들어 커피 자판기를 생각해 보자. 자판기 안에 커피가 충분히 있을 때에는 동전을 넣으면 커피가 나온다. 그런데 자판기가 제대로 작동하려면 커피가 얼마나 남았는지 항상 검사해야 한다. 만약 커피가 떨어졌다면 판매를 중단하고 \"판매 중지\"라는 문구를 사용자에게 보여주어야 한다. 이렇게 판매를 강제로 멈추게 하는 것이 바로 break문이다.\n",
        " \n",
        "다음의 예는 커피 자판기 이야기를 파이썬 프로그램으로 표현해 본 것이다."
      ]
    },
    {
      "cell_type": "code",
      "metadata": {
        "id": "SFxhyiMzxeey",
        "colab_type": "code",
        "cellView": "both",
        "colab": {}
      },
      "source": [
        "coffee = 5 #@param {type:\"raw\"}\n",
        "money = 300 #@param {type:\"raw\"}\n",
        "\n",
        "while money:\n",
        "    print(\"돈을 받았으니 커피를 줍니다.\")\n",
        "    coffee = coffee -1\n",
        "    print(\"남은 커피의 양은 %d개입니다.\" % coffee)\n",
        "    if not coffee:\n",
        "        print(\"커피가 다 떨어졌습니다. 판매를 중지합니다.\")\n",
        "        break"
      ],
      "execution_count": 0,
      "outputs": []
    },
    {
      "cell_type": "code",
      "metadata": {
        "id": "1B3f3rUvxsnc",
        "colab_type": "code",
        "cellView": "both",
        "colab": {}
      },
      "source": [
        "coffee = 5 #@param {type:\"raw\"}\n",
        "\n",
        "while True:\n",
        "    money = int(input(\"돈을 넣어 주세요: \"))\n",
        "    if money == 300:\n",
        "        print(\"커피를 줍니다.\")\n",
        "        coffee = coffee -1\n",
        "    elif money > 300:\n",
        "        print(\"거스름돈 %d를 주고 커피를 줍니다.\" % (money -300))\n",
        "        coffee = coffee -1\n",
        "    else:\n",
        "        print(\"돈을 다시 돌려주고 커피를 주지 않습니다.\")\n",
        "        print(\"남은 커피의 양은 %d개 입니다.\" % coffee)\n",
        "    if not coffee:\n",
        "        print(\"커피가 다 떨어졌습니다. 판매를 중지 합니다.\")\n",
        "        break"
      ],
      "execution_count": 0,
      "outputs": []
    },
    {
      "cell_type": "markdown",
      "metadata": {
        "id": "kHwCLj2ix4Yn",
        "colab_type": "text"
      },
      "source": [
        "### 조건에 맞지 않는 경우 맨 처음으로 돌아가기\n",
        " \n",
        "while문 안의 문장을 수행할 때 입력된 조건을 검사해서 조건에 맞지 않으면 while문을 빠져나간다. 그런데 프로그래밍을 하다 보면 while문을 빠져나가지 않고 while문의 맨 처음(조건문)으로 다시 돌아가게 만들고 싶은 경우가 생기게 된다. 이때 사용하는 것이 바로 continue문이다.\n",
        " \n",
        "만약 1부터 10까지의 숫자 중에서 홀수만 출력하는 것을 while문을 이용해서 작성한다고 생각해 보자. 어떤 방법이 좋을까?"
      ]
    },
    {
      "cell_type": "code",
      "metadata": {
        "id": "vBxV89TkxurU",
        "colab_type": "code",
        "colab": {}
      },
      "source": [
        "a = 0\n",
        "\n",
        "while a < 10:\n",
        "    a = a + 1\n",
        "    if a % 2 == 0: continue\n",
        "    print(a)"
      ],
      "execution_count": 0,
      "outputs": []
    },
    {
      "cell_type": "markdown",
      "metadata": {
        "id": "ghhvy_DhyV5-",
        "colab_type": "text"
      },
      "source": [
        "# 파이썬 자료형\n",
        "## 파이썬에서 여러 개의 자료를 한 변수에 담기\n",
        " \n",
        "지금까지는 하나의 변수에 하나의 자료를 저장했다. 그러나 파이썬에서는 하나의 변수에 여러 개의 자료를 한꺼번에 저장하고 필요한 때에 꺼내 쓸 수도 있다.\n",
        " \n",
        "파이썬에서 하나의 변수에 여러 개의 자료를 저장하고 쓰는데는 크게 두 가지 방법을 사용한다.\n",
        " \n",
        "* 여러개의 자료가 순서를 가지는 경우에는 주로 리스트(list) 자료형을 사용\n",
        "* 여러개의 자료가 이름을 가지는 경우에는 주로 딕셔너리(dictionary) 자료형을 사용"
      ]
    },
    {
      "cell_type": "markdown",
      "metadata": {
        "id": "AQECViVNyfTO",
        "colab_type": "text"
      },
      "source": [
        "## 리스트\n",
        "자료의 순서만 가지는 리스트 자료형"
      ]
    },
    {
      "cell_type": "code",
      "metadata": {
        "id": "1AByL5a5x93K",
        "colab_type": "code",
        "colab": {}
      },
      "source": [
        "x = [88, 90, 100]\n",
        "x"
      ],
      "execution_count": 0,
      "outputs": []
    },
    {
      "cell_type": "markdown",
      "metadata": {
        "id": "S79vr5k9yvC8",
        "colab_type": "text"
      },
      "source": [
        "### 인덱싱\n",
        " \n",
        "리스트 자료형 변수에서 특정한 자료를 꺼내려면 인덱싱(indexing)이라는 연산을 사용한다.\n",
        " \n",
        "인덱싱 연산을 하려면 다음과 같이 대괄호(bracket)를 변수 이름 끝에 붙이고 그 안에 자료의 순서를 뜻하는 숫자를 넣는다.\n",
        "```\n",
        " \n",
        "리스트변수[인덱스]\n",
        "```\n",
        " \n",
        "이 때 자료의 순서를 뜻하는 숫자를 인덱스(index)라고 한다. \n",
        "\n",
        "파이썬에서는 가장 첫번째 자료를 가리키는 인덱스는 1이 아니라 0이다."
      ]
    },
    {
      "cell_type": "code",
      "metadata": {
        "id": "eSg8kPA7ylYH",
        "colab_type": "code",
        "colab": {}
      },
      "source": [
        "x[0]"
      ],
      "execution_count": 0,
      "outputs": []
    },
    {
      "cell_type": "code",
      "metadata": {
        "id": "7xThSdgEy1lS",
        "colab_type": "code",
        "colab": {}
      },
      "source": [
        "x[1]"
      ],
      "execution_count": 0,
      "outputs": []
    },
    {
      "cell_type": "code",
      "metadata": {
        "id": "p2uenuOVy2MK",
        "colab_type": "code",
        "colab": {}
      },
      "source": [
        "(x[0] + x[1]) / 2"
      ],
      "execution_count": 0,
      "outputs": []
    },
    {
      "cell_type": "markdown",
      "metadata": {
        "id": "fiTscZPqy9Ns",
        "colab_type": "text"
      },
      "source": [
        "### 리스트 연습하기\n",
        "\n",
        "시험 성적을 나타내는 임의의 5개의 숫자를 리스트 변수 score에 넣고 평균을 구한다."
      ]
    },
    {
      "cell_type": "code",
      "metadata": {
        "id": "FuZxGM9Yy3oD",
        "colab_type": "code",
        "colab": {}
      },
      "source": [
        "score = [100,90,80,70,60]\n",
        "avg_score = (score[0] + score[1] + score[2] + score[3] + score[4]) / 5\n",
        "print(avg_score)"
      ],
      "execution_count": 0,
      "outputs": []
    },
    {
      "cell_type": "markdown",
      "metadata": {
        "id": "uSLk5KQozZOj",
        "colab_type": "text"
      },
      "source": [
        "### 자료형이 다른 경우\n",
        " \n",
        "리스트 변수에는 자료형이 같은 자료만 담을 수 있는 것은 아니고 자료형이 다른 자료들도 담을 수 있다. \n",
        "\n",
        "예를 들어 정수형 자료와 실수형 자료, 그리고 문자열 자료를 한 리스트 변수에 넣는 것도 가능하다."
      ]
    },
    {
      "cell_type": "code",
      "metadata": {
        "id": "PphgDj5bze4N",
        "colab_type": "code",
        "colab": {}
      },
      "source": [
        "d = [1, 3.14, \"pi\"]"
      ],
      "execution_count": 0,
      "outputs": []
    },
    {
      "cell_type": "code",
      "metadata": {
        "id": "6dQgTQEJzfnk",
        "colab_type": "code",
        "colab": {}
      },
      "source": [
        "d[0]"
      ],
      "execution_count": 0,
      "outputs": []
    },
    {
      "cell_type": "code",
      "metadata": {
        "id": "NtcB0eHRziKH",
        "colab_type": "code",
        "colab": {}
      },
      "source": [
        "d[2]"
      ],
      "execution_count": 0,
      "outputs": []
    },
    {
      "cell_type": "markdown",
      "metadata": {
        "id": "JH5IZwWtzngq",
        "colab_type": "text"
      },
      "source": [
        "심지어 리스트 변수에 또 다른 리스트 변수를 넣을 수도 있다."
      ]
    },
    {
      "cell_type": "code",
      "metadata": {
        "id": "iNIkF5Zbzue_",
        "colab_type": "code",
        "colab": {}
      },
      "source": [
        "e = [[1, 10], [2, 20]]"
      ],
      "execution_count": 0,
      "outputs": []
    },
    {
      "cell_type": "code",
      "metadata": {
        "id": "Tcgbd_gazwMb",
        "colab_type": "code",
        "colab": {}
      },
      "source": [
        "e[0]"
      ],
      "execution_count": 0,
      "outputs": []
    },
    {
      "cell_type": "code",
      "metadata": {
        "id": "tJyFe5pKzx85",
        "colab_type": "code",
        "colab": {}
      },
      "source": [
        "e[0][1]"
      ],
      "execution_count": 0,
      "outputs": []
    },
    {
      "cell_type": "markdown",
      "metadata": {
        "id": "I0oUlqGtzHjm",
        "colab_type": "text"
      },
      "source": [
        "## 딕셔너리 자료형\n",
        " \n",
        "자료의 이름만 가지는 딕셔너리 자료형.\n",
        "\n",
        "딕셔너리 자료형에는 여러개의 자료를 이름을 붙여서 저장할 수 있다. 딕셔너리 자료형 변수는 다음과 같이 만든다.\n",
        "\n",
        "```\n",
        "딕셔너리변수 = {자료이름1: 자료값1, 자료이름2: 자료값2, 자료이름3: 자료값3}\n",
        "```\n",
        " \n",
        "이 때 자료의 갯수는 얼마가 되든 상관없다.\n",
        " \n",
        "파이썬에서는 자료의 이름을 키(key)라고 하고 자료의 값을 값(value)라고 한다.\n"
      ]
    },
    {
      "cell_type": "code",
      "metadata": {
        "id": "ytc-3YiazDQb",
        "colab_type": "code",
        "colab": {}
      },
      "source": [
        "b = {\"math\": 88, \"english\": 90, \"history\": 100}\n",
        "b "
      ],
      "execution_count": 0,
      "outputs": []
    },
    {
      "cell_type": "markdown",
      "metadata": {
        "id": "zNdItvJKzMwe",
        "colab_type": "text"
      },
      "source": [
        "딕셔너리 자료형 변수에서 특정한 자료를 꺼낼때도 마찬가지로 인덱싱(indexing) 연산을 한다.\n",
        " \n",
        "딕셔너리 자료형 변수에서 인덱싱 연산을 하는 경우에도 다음과 같이 대괄호(bracket)를 변수 이름 끝에 붙이고 그 안에 자료의 키를 넣는다.\n"
      ]
    },
    {
      "cell_type": "code",
      "metadata": {
        "id": "bnSBWxbVzJ8F",
        "colab_type": "code",
        "colab": {}
      },
      "source": [
        "b[\"math\"]"
      ],
      "execution_count": 0,
      "outputs": []
    },
    {
      "cell_type": "code",
      "metadata": {
        "id": "AzUOZeqyzOYO",
        "colab_type": "code",
        "colab": {}
      },
      "source": [
        "b[\"english\"]"
      ],
      "execution_count": 0,
      "outputs": []
    },
    {
      "cell_type": "code",
      "metadata": {
        "id": "3HtL9QOgzPm7",
        "colab_type": "code",
        "colab": {}
      },
      "source": [
        "(b[\"math\"] + b[\"english\"]) / 2"
      ],
      "execution_count": 0,
      "outputs": []
    },
    {
      "cell_type": "markdown",
      "metadata": {
        "id": "LX9KXoqlzTny",
        "colab_type": "text"
      },
      "source": [
        "파이썬에서는 자료의 키는 무엇이든 가능하다. 즉, 숫자도 키가 될 수 있다."
      ]
    },
    {
      "cell_type": "code",
      "metadata": {
        "id": "G_JTYsdazRCe",
        "colab_type": "code",
        "colab": {}
      },
      "source": [
        "b2 = {1: 10, 2: 20}\n",
        "b2"
      ],
      "execution_count": 0,
      "outputs": []
    },
    {
      "cell_type": "markdown",
      "metadata": {
        "id": "el9CHKLE0ZPi",
        "colab_type": "text"
      },
      "source": [
        "## 파이썬에서 리스트 변수 다루기"
      ]
    },
    {
      "cell_type": "markdown",
      "metadata": {
        "id": "ZumE0wCLz2f7",
        "colab_type": "text"
      },
      "source": [
        " ### 자료의 갯수\n",
        " \n",
        "리스트 변수에 자료가 몇 개 들어가 있는지 알기 위해서는 len이라는 명령을 사용한다.\n"
      ]
    },
    {
      "cell_type": "code",
      "metadata": {
        "id": "JNP9Ft7LzVYp",
        "colab_type": "code",
        "colab": {}
      },
      "source": [
        "a = [1, 2, 3]"
      ],
      "execution_count": 0,
      "outputs": []
    },
    {
      "cell_type": "code",
      "metadata": {
        "id": "NACwwne_z7GE",
        "colab_type": "code",
        "colab": {}
      },
      "source": [
        "len(a)"
      ],
      "execution_count": 0,
      "outputs": []
    },
    {
      "cell_type": "markdown",
      "metadata": {
        "id": "aMKC-Olaz-0M",
        "colab_type": "text"
      },
      "source": [
        "### 수열 생성하기\n",
        "\n",
        "0부터 n-1까지 1씩 증가하는 n개의 숫자를 가지는 수열 리스트는 range 명령으로 생성한다."
      ]
    },
    {
      "cell_type": "code",
      "metadata": {
        "id": "cY4OkNFrz8lY",
        "colab_type": "code",
        "colab": {}
      },
      "source": [
        "b = range(10)\n",
        "b"
      ],
      "execution_count": 0,
      "outputs": []
    },
    {
      "cell_type": "markdown",
      "metadata": {
        "id": "ubpghYQ50CvC",
        "colab_type": "text"
      },
      "source": [
        "만약 0이 아닌 다른 수부터 증가하게 하려면 다음과 같이 range 명령에 두 개의 숫자를 넣는다.\n",
        "\n",
        "range 명령은 두 숫자 x, y 에 대해 x보다 같거나 크고(이상), y보다 작은(미만) 수열을 만든다. \n",
        "\n",
        "즉 x는 시작값(start), y는 포함되지 않는 끝값(end) 역할을 한다."
      ]
    },
    {
      "cell_type": "code",
      "metadata": {
        "id": "6DvvwAhF0Alb",
        "colab_type": "code",
        "colab": {}
      },
      "source": [
        "c = range(1, 10)\n",
        "c"
      ],
      "execution_count": 0,
      "outputs": []
    },
    {
      "cell_type": "markdown",
      "metadata": {
        "id": "67vd2Nii0IfD",
        "colab_type": "text"
      },
      "source": [
        "만약 1씩 증가하는 것이 아니라 2 혹은 3씩 증가하는 수열을 만들고 싶다면 range 명령에 세 개의 숫자를 넣는다. \n",
        "\n",
        "세번째 숫자는 건너 뛰기 숫자(step) 역할을 한다."
      ]
    },
    {
      "cell_type": "code",
      "metadata": {
        "id": "hRAhcxr20Gbg",
        "colab_type": "code",
        "colab": {}
      },
      "source": [
        "d = range(1, 10, 3)\n",
        "d"
      ],
      "execution_count": 0,
      "outputs": []
    },
    {
      "cell_type": "markdown",
      "metadata": {
        "id": "xYVKc_sC0Od_",
        "colab_type": "text"
      },
      "source": [
        "### 자료 추가하기\n",
        "\n",
        "리스트 변수의 마지막에 자료를 더 추가하려면 다음과 같이 append 메서드를 사용한다. \n",
        "\n",
        "이 때 메서드란 변수 다음에 점(.)을 찍고 쓰는 명령을 말한다."
      ]
    },
    {
      "cell_type": "code",
      "metadata": {
        "id": "F_xqyuDD0MPJ",
        "colab_type": "code",
        "colab": {}
      },
      "source": [
        "e = range(4)\n",
        "e"
      ],
      "execution_count": 0,
      "outputs": []
    },
    {
      "cell_type": "code",
      "metadata": {
        "id": "YNTAcJkr0RpP",
        "colab_type": "code",
        "colab": {}
      },
      "source": [
        "# e.append(4)\n",
        "# e"
      ],
      "execution_count": 0,
      "outputs": []
    },
    {
      "cell_type": "markdown",
      "metadata": {
        "id": "Mzjt4F2c0fka",
        "colab_type": "text"
      },
      "source": [
        "### 자료 삭제하기\n",
        " \n",
        "리스트에서 자료를 하나 삭제하려면 다음과 같이 del 명령을 사용한다."
      ]
    },
    {
      "cell_type": "code",
      "metadata": {
        "id": "DQM82paD0UPM",
        "colab_type": "code",
        "colab": {}
      },
      "source": [
        "f = range(5)\n",
        "f"
      ],
      "execution_count": 0,
      "outputs": []
    },
    {
      "cell_type": "code",
      "metadata": {
        "id": "Nsdtgbal0iSm",
        "colab_type": "code",
        "colab": {}
      },
      "source": [
        "# del f[0]\n",
        "# f"
      ],
      "execution_count": 0,
      "outputs": []
    },
    {
      "cell_type": "markdown",
      "metadata": {
        "id": "Y7s6JRe50miP",
        "colab_type": "text"
      },
      "source": [
        "### 슬라이싱\n",
        "\n",
        "리스트에서 자료를 하나만 가져오는 것이 아니라 특정 범위의 자료를 모두 가져오고 싶다면 슬라이싱(slicing)이라는 방법을 사용한다.\n",
        " \n",
        "슬라이싱은 콜론(:)이라는 기호를 사용하여 리스트의 자료 범위를 나타내는 연산이다.\n",
        " \n",
        "예를 들어 20개의 숫자가 있는 리스트에서 앞의 5개만 가져오고 싶으면 다음과 같이 입력한다.\n"
      ]
    },
    {
      "cell_type": "code",
      "metadata": {
        "id": "o-rGitjw0kYW",
        "colab_type": "code",
        "colab": {}
      },
      "source": [
        "g = range(20)\n",
        "g"
      ],
      "execution_count": 0,
      "outputs": []
    },
    {
      "cell_type": "code",
      "metadata": {
        "id": "7r8U6CpM0rkw",
        "colab_type": "code",
        "colab": {}
      },
      "source": [
        "g[0:5]"
      ],
      "execution_count": 0,
      "outputs": []
    },
    {
      "cell_type": "code",
      "metadata": {
        "id": "OUc6fbTF0s7I",
        "colab_type": "code",
        "colab": {}
      },
      "source": [
        "g[:5]"
      ],
      "execution_count": 0,
      "outputs": []
    },
    {
      "cell_type": "code",
      "metadata": {
        "id": "GiseMVZk0uXF",
        "colab_type": "code",
        "colab": {}
      },
      "source": [
        "g[10:15]"
      ],
      "execution_count": 0,
      "outputs": []
    },
    {
      "cell_type": "markdown",
      "metadata": {
        "id": "9s9zUfa01pNo",
        "colab_type": "text"
      },
      "source": [
        "## 반복문을 활용하여 계산하기\n",
        "\n",
        "반복문은 리스트 자료형 변수에 대해 여러가지 계산을 할 때 많이 사용된다.\n",
        " \n",
        "예를 들어 10번의 시험 성적을 담고 있는 a라는 변수가 있을 때 평균 성적은 다음과 같이 구할 수 있다.\n",
        " \n",
        "다음 코드에서 len() 명령어는 리스트 자료형 변수의 원소의 갯수를 구하는 명령어이다."
      ]
    },
    {
      "cell_type": "code",
      "metadata": {
        "id": "4rxCqyh80wQC",
        "colab_type": "code",
        "colab": {}
      },
      "source": [
        "a = [90, 85, 95, 80, 90, 100, 85, 75, 85, 80]\n",
        "a"
      ],
      "execution_count": 0,
      "outputs": []
    },
    {
      "cell_type": "code",
      "metadata": {
        "id": "AhTRbTU11wxZ",
        "colab_type": "code",
        "colab": {}
      },
      "source": [
        "len(a)"
      ],
      "execution_count": 0,
      "outputs": []
    },
    {
      "cell_type": "code",
      "metadata": {
        "id": "2GGllCmt1yTl",
        "colab_type": "code",
        "colab": {}
      },
      "source": [
        "sum = 0\n",
        "for i in range(len(a)):\n",
        "    sum = sum + a[i]\n",
        "average = sum / len(a)    \n",
        "average"
      ],
      "execution_count": 0,
      "outputs": []
    },
    {
      "cell_type": "markdown",
      "metadata": {
        "id": "D0Q-qo8t12yV",
        "colab_type": "text"
      },
      "source": [
        "만약 학생이 두 명이고 이런 성적 변수가 두 개 있을 경우를 생각하자.\n",
        "\n",
        "두 학생의 시험 성적의 합은 다음과 같이 구할 수 있다."
      ]
    },
    {
      "cell_type": "code",
      "metadata": {
        "id": "wd6AdSpo10Eq",
        "colab_type": "code",
        "colab": {}
      },
      "source": [
        "s = [0, 0, 0, 0, 0, 0, 0, 0, 0, 0]\n",
        "a1 = [90, 85, 95, 80, 90, 100, 85, 75, 85, 80]\n",
        "a2 = [95, 90, 90, 90, 95, 100, 90, 80, 95, 90]\n",
        "\n",
        "for i in range(len(s)):\n",
        "    s[i] = a1[i] + a2[i]\n",
        "\n",
        "s"
      ],
      "execution_count": 0,
      "outputs": []
    },
    {
      "cell_type": "markdown",
      "metadata": {
        "id": "Rm4ee-va1-mt",
        "colab_type": "text"
      },
      "source": [
        "학생이 5명이라면 다음과 같이 리스트의 리스트로 데이터를 나타낼 수 있다."
      ]
    },
    {
      "cell_type": "code",
      "metadata": {
        "id": "Wn6Dpg4_15av",
        "colab_type": "code",
        "colab": {}
      },
      "source": [
        "X = [[ 85,  90,  20,  50,  60,  25,  30,  75,  40,  55],\n",
        "     [ 70, 100,  70,  70,  55,  75,  55,  60,  40,  45],\n",
        "     [ 25,  65,  15,  25,  20,   5,  60,  70,  35,  10],\n",
        "     [ 80,  45,  80,  40,  75,  35,  80,  55,  70,  90],\n",
        "     [ 35,  50,  75,  25,  35,  70,  65,  50,  70,  10]]\n",
        "\n",
        "X"
      ],
      "execution_count": 0,
      "outputs": []
    },
    {
      "cell_type": "code",
      "metadata": {
        "id": "_Bt5aWbJ2AZn",
        "colab_type": "code",
        "colab": {}
      },
      "source": [
        "sum = 0\n",
        "num = 0\n",
        "\n",
        "for i in range(len(X)):\n",
        "    for j in range(len(X[i])):\n",
        "        num = num + 1\n",
        "        sum = sum + X[i][j]\n",
        "        \n",
        "sum / num"
      ],
      "execution_count": 0,
      "outputs": []
    },
    {
      "cell_type": "markdown",
      "metadata": {
        "id": "HosGyLy22JXG",
        "colab_type": "text"
      },
      "source": [
        "### 연습하기\n",
        " \n",
        "어떤 학생이 5개의 과목을 수강하여 다음과 같은 성적(grade)을 받았다. (4점이 만점)\n",
        "``` \n",
        "X=4,3,2,3,4\n",
        "```\n",
        "이 5개 과목의 이수 학점(credit hours)은 각각 다음과 같다.\n",
        "``` \n",
        "W=3,3,1,2,2\n",
        "```  \n",
        "이 때 평균 평점(GPA)은 성적의 단순 평균이 아니라 이수 학점을 가중치(weight)로 써서 다음과 같이 가중 평균을 구해야 한다.\n",
        "``` \n",
        "(성적과 이수 학점을 곱한 값의 총합 즉, 가중합 ) / 이수 학점의 총합=(3×4+3×3+1×2+2×3+2×4)/(3+3+1+2+2)\n",
        "``` \n",
        "i 번째 과목의 성적을  Xi 라고 하고  i 번째 과목의 이수 학점을  Wi 라고 하면 가중 평균은 다음과 같은 수식으로 나타낼 수도 있다.\n",
        "``` \n",
        "(W1X1+W2X2+W3X3+W4X4+W5X5) / (W1+W2+W3+W4+W5)\n",
        "```  \n",
        "이 학생의 평균 평점을 구하는 코드를 작성한다."
      ]
    },
    {
      "cell_type": "code",
      "metadata": {
        "id": "9FQJJYMA2EhH",
        "colab_type": "code",
        "colab": {}
      },
      "source": [
        "X = [4, 3, 2, 3, 4]\n",
        "W = [3, 3, 1, 2, 2]\n",
        "\n",
        "sum = 0\n",
        "num = 0\n",
        "\n",
        "for i in range(len(X)):\n",
        "    sum = sum + X[i] * W[i]\n",
        "    num = num + W[i] \n",
        "\n",
        "sum / num"
      ],
      "execution_count": 0,
      "outputs": []
    },
    {
      "cell_type": "code",
      "metadata": {
        "id": "SVGkEzgD2YQg",
        "colab_type": "code",
        "colab": {}
      },
      "source": [
        ""
      ],
      "execution_count": 0,
      "outputs": []
    }
  ]
}